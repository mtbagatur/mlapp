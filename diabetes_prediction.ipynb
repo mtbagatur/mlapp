{
 "cells": [
  {
   "cell_type": "markdown",
   "id": "6709c4a6",
   "metadata": {},
   "source": [
    "# Diyabet Tahmini"
   ]
  },
  {
   "cell_type": "markdown",
   "id": "f5be8e5d",
   "metadata": {},
   "source": [
    "Bu veri seti; en az 21 yaşında, kadın ve Pima Indian ırkından insanlardan oluşur. Bu insanların verilen belirli özellikleri ile bu kişilerin diyabet hastası olup olmadığını tahminleyeceğiz."
   ]
  },
  {
   "cell_type": "code",
   "execution_count": 19,
   "id": "78e636d0",
   "metadata": {},
   "outputs": [],
   "source": [
    "import numpy as np \n",
    "import pandas as pd\n",
    "import seaborn as sns\n",
    "import matplotlib.pyplot as plt\n",
    "from sklearn.model_selection import train_test_split, GridSearchCV, cross_val_score\n",
    "from sklearn.metrics import accuracy_score\n",
    "from sklearn.linear_model import LogisticRegression\n",
    "from sklearn.tree import DecisionTreeClassifier\n",
    "from sklearn.naive_bayes import GaussianNB\n",
    "from sklearn.neural_network import MLPClassifier\n",
    "from sklearn.model_selection import KFold\n",
    "\n",
    "from warnings import filterwarnings\n",
    "filterwarnings('ignore')"
   ]
  },
  {
   "cell_type": "code",
   "execution_count": 20,
   "id": "1409899a",
   "metadata": {},
   "outputs": [],
   "source": [
    "df = pd.read_csv(\"diabetes.csv\")"
   ]
  },
  {
   "cell_type": "code",
   "execution_count": 21,
   "id": "fc9c6fab",
   "metadata": {},
   "outputs": [
    {
     "data": {
      "text/html": [
       "<div>\n",
       "<style scoped>\n",
       "    .dataframe tbody tr th:only-of-type {\n",
       "        vertical-align: middle;\n",
       "    }\n",
       "\n",
       "    .dataframe tbody tr th {\n",
       "        vertical-align: top;\n",
       "    }\n",
       "\n",
       "    .dataframe thead th {\n",
       "        text-align: right;\n",
       "    }\n",
       "</style>\n",
       "<table border=\"1\" class=\"dataframe\">\n",
       "  <thead>\n",
       "    <tr style=\"text-align: right;\">\n",
       "      <th></th>\n",
       "      <th>Pregnancies</th>\n",
       "      <th>Glucose</th>\n",
       "      <th>BloodPressure</th>\n",
       "      <th>SkinThickness</th>\n",
       "      <th>Insulin</th>\n",
       "      <th>BMI</th>\n",
       "      <th>DiabetesPedigreeFunction</th>\n",
       "      <th>Age</th>\n",
       "      <th>Outcome</th>\n",
       "    </tr>\n",
       "  </thead>\n",
       "  <tbody>\n",
       "    <tr>\n",
       "      <th>0</th>\n",
       "      <td>6</td>\n",
       "      <td>148</td>\n",
       "      <td>72</td>\n",
       "      <td>35</td>\n",
       "      <td>0</td>\n",
       "      <td>33.6</td>\n",
       "      <td>0.627</td>\n",
       "      <td>50</td>\n",
       "      <td>1</td>\n",
       "    </tr>\n",
       "    <tr>\n",
       "      <th>1</th>\n",
       "      <td>1</td>\n",
       "      <td>85</td>\n",
       "      <td>66</td>\n",
       "      <td>29</td>\n",
       "      <td>0</td>\n",
       "      <td>26.6</td>\n",
       "      <td>0.351</td>\n",
       "      <td>31</td>\n",
       "      <td>0</td>\n",
       "    </tr>\n",
       "    <tr>\n",
       "      <th>2</th>\n",
       "      <td>8</td>\n",
       "      <td>183</td>\n",
       "      <td>64</td>\n",
       "      <td>0</td>\n",
       "      <td>0</td>\n",
       "      <td>23.3</td>\n",
       "      <td>0.672</td>\n",
       "      <td>32</td>\n",
       "      <td>1</td>\n",
       "    </tr>\n",
       "    <tr>\n",
       "      <th>3</th>\n",
       "      <td>1</td>\n",
       "      <td>89</td>\n",
       "      <td>66</td>\n",
       "      <td>23</td>\n",
       "      <td>94</td>\n",
       "      <td>28.1</td>\n",
       "      <td>0.167</td>\n",
       "      <td>21</td>\n",
       "      <td>0</td>\n",
       "    </tr>\n",
       "    <tr>\n",
       "      <th>4</th>\n",
       "      <td>0</td>\n",
       "      <td>137</td>\n",
       "      <td>40</td>\n",
       "      <td>35</td>\n",
       "      <td>168</td>\n",
       "      <td>43.1</td>\n",
       "      <td>2.288</td>\n",
       "      <td>33</td>\n",
       "      <td>1</td>\n",
       "    </tr>\n",
       "  </tbody>\n",
       "</table>\n",
       "</div>"
      ],
      "text/plain": [
       "   Pregnancies  Glucose  BloodPressure  SkinThickness  Insulin   BMI  \\\n",
       "0            6      148             72             35        0  33.6   \n",
       "1            1       85             66             29        0  26.6   \n",
       "2            8      183             64              0        0  23.3   \n",
       "3            1       89             66             23       94  28.1   \n",
       "4            0      137             40             35      168  43.1   \n",
       "\n",
       "   DiabetesPedigreeFunction  Age  Outcome  \n",
       "0                     0.627   50        1  \n",
       "1                     0.351   31        0  \n",
       "2                     0.672   32        1  \n",
       "3                     0.167   21        0  \n",
       "4                     2.288   33        1  "
      ]
     },
     "execution_count": 21,
     "metadata": {},
     "output_type": "execute_result"
    }
   ],
   "source": [
    "df.head()"
   ]
  },
  {
   "cell_type": "markdown",
   "id": "177151f5",
   "metadata": {},
   "source": [
    "* Pregnancies = Hamile kalma sayısı\n",
    "* Glucose = Glikoz\n",
    "* Blood Pressure = Kan basıncı\n",
    "* Skin Thickness = Deri kalınlığı\n",
    "* Insulin = İnsülin\n",
    "* BMI (Body Mass Index) = Beden kitle endeksi\n",
    "* Diabetes Pedigree Function = Soyumuzdaki kişilere göre diyabet olma ihtimalimizi hesaplayan bir fonksiyon\n",
    "* Age = Yaş\n",
    "* Outcome = Diyabet olup olmadığı bilgisi (bu bizim target yani hedefimiz amacımız bunu tahminlemek)"
   ]
  },
  {
   "cell_type": "code",
   "execution_count": 22,
   "id": "eeef7a7c",
   "metadata": {},
   "outputs": [],
   "source": [
    "models = []\n",
    "\n",
    "models.append(('LR', LogisticRegression()))\n",
    "models.append(('CART', DecisionTreeClassifier()))\n",
    "models.append(('NB', GaussianNB()))\n",
    "models.append(('ANN', MLPClassifier()))"
   ]
  },
  {
   "cell_type": "code",
   "execution_count": 23,
   "id": "9bb17d81",
   "metadata": {},
   "outputs": [],
   "source": [
    "X = df.drop(\"Outcome\",axis=1)\n",
    "y = df[\"Outcome\"]\n",
    "\n",
    "X_train, X_test, y_train, y_test = train_test_split(X,y,test_size=0.2,random_state=23)\n",
    "# test %20, train %80 şeklinde ayırıyoruz"
   ]
  },
  {
   "cell_type": "code",
   "execution_count": 24,
   "id": "d47e8a24",
   "metadata": {},
   "outputs": [
    {
     "name": "stdout",
     "output_type": "stream",
     "text": [
      "Holdout Method: LR 0.8311688311688312\n",
      "Cross Val Score LR 0.7721804511278195\n",
      "------------------------------------\n",
      "Holdout Method: CART 0.7402597402597403\n",
      "Cross Val Score CART 0.706971975393028\n",
      "------------------------------------\n",
      "Holdout Method: NB 0.8051948051948052\n",
      "Cross Val Score NB 0.7564935064935066\n",
      "------------------------------------\n",
      "Holdout Method: ANN 0.6883116883116883\n",
      "Cross Val Score ANN 0.7161483253588516\n",
      "------------------------------------\n"
     ]
    }
   ],
   "source": [
    "for name,model in models:\n",
    "    mod = model.fit(X_train,y_train) #trainleri modele fit etmek\n",
    "    y_pred = mod.predict(X_test) # tahmin\n",
    "    acc = accuracy_score(y_test, y_pred) #rmse hesabı\n",
    "    cvscore = cross_val_score(model, X,y, cv = 10).mean()\n",
    "    print(\"Holdout Method:\",end=\" \")\n",
    "    print(name,acc) #yazdırılacak kısım\n",
    "    print(\"Cross Val Score\",end=\" \")\n",
    "    print(name,cvscore)\n",
    "    print(\"------------------------------------\")\n",
    "# yukarıdaki döngüde models listesinin içinde geziyoruz.\n",
    "#\"name\" tuple'ın ilk elemanı, model ise 2. elemanı oluyor. \n",
    "#Yani \"LR\" = name, LogisticRegression() = model. döngü içerisinde klasik fit predict işlemlerimizi yapıyoruz. \n",
    "#Daha sonra bu bir sınıflandırma algoritması olduğu için accuracy (doğruluk) oranını hesaplıyoruz. \n",
    "#Ekstra olarak cross validation ile de bütün veri üzerinde bir çalışma yapıyoruz."
   ]
  },
  {
   "cell_type": "markdown",
   "id": "5efd2ea6",
   "metadata": {},
   "source": [
    "Şimdi bu veri seti üzerinde yapacağımız oynamalarla bu accuracy değerlerini yükseltmeye çalışacağız."
   ]
  },
  {
   "cell_type": "code",
   "execution_count": 26,
   "id": "87b54f59",
   "metadata": {},
   "outputs": [],
   "source": [
    "df[[\"Glucose\",\"BloodPressure\",\"SkinThickness\",\"Insulin\",\"BMI\"]] = df[[\"Glucose\",\"BloodPressure\",\"SkinThickness\",\n",
    "                                                                      \"Insulin\",\"BMI\"]].replace(0,np.NaN)"
   ]
  },
  {
   "cell_type": "markdown",
   "id": "a2c05d4e",
   "metadata": {},
   "source": [
    "Yukarıdaki kod bloğunda 5 değişkendeki 0 olan değerlerin tamamını NaN yani boş anlamına gelen bir hale çevirdik.\n",
    "\n",
    "Ayrıca 0 olması imkansız olan bazı değerler vardı. Bu değerleri bizim bir şekilde 0 değil boş değer olarak göstermemiz gerekir. Çünkü yaşayan bir insanın Glikoz oranı, kan basıncı, deri kalınlığı, insülini ve beden kitle endeksi kesinlikle 0 olamaz.\n",
    "\n",
    "Şimdi 0 yerine NaN atadığımız kaç adet satır var görelim."
   ]
  },
  {
   "cell_type": "code",
   "execution_count": 27,
   "id": "b7cd83ba",
   "metadata": {},
   "outputs": [
    {
     "data": {
      "text/plain": [
       "Pregnancies                   0\n",
       "Glucose                       5\n",
       "BloodPressure                35\n",
       "SkinThickness               227\n",
       "Insulin                     374\n",
       "BMI                          11\n",
       "DiabetesPedigreeFunction      0\n",
       "Age                           0\n",
       "Outcome                       0\n",
       "dtype: int64"
      ]
     },
     "execution_count": 27,
     "metadata": {},
     "output_type": "execute_result"
    }
   ],
   "source": [
    "df.isnull().sum()"
   ]
  },
  {
   "cell_type": "markdown",
   "id": "059d5b73",
   "metadata": {},
   "source": [
    "Görüldüğü gibi çok fazla gürültülü veri var. 768 satır olan bir veri setinde 374 satırın Insulin değişkeni aslında boş ama veri setine 0 olarak girildiği için gürültü oluşturuyor.\n",
    "\n",
    "Şimdi bu NaN yani boş verileri doldurmak veya silmek zorundayız. Çünkü algoritmaya NaN veri girişi yaparsak hatayla karşılaşırız.\n",
    "\n",
    "Boş veri bulunduran satırları silmek bu veri seti için büyük bir hata olur. Çünkü veri setimizde zaten 768 adet satır var. Bu bile yeterli değilken bunu bir de azaltmak proje için iyi sonuçlar doğurmaz. 768 olan satır sayımız 392 olur."
   ]
  },
  {
   "cell_type": "markdown",
   "id": "4dd882e7",
   "metadata": {},
   "source": [
    "Şimdi verileri silme yerine doldurma işine bakalım. Bunun için yine bir döngü oluşturalım ve Glucose, BloodPressure, SkinThickness, Insulin, BMI değişkenlerini dolduralım."
   ]
  },
  {
   "cell_type": "code",
   "execution_count": 28,
   "id": "974a5924",
   "metadata": {},
   "outputs": [],
   "source": [
    "naValues = [\"Glucose\",\"BloodPressure\",\"SkinThickness\",\"Insulin\",\"BMI\"]\n",
    "\n",
    "for i in naValues:\n",
    "    df[i][(df[i].isnull()) & (df[\"Outcome\"] == 0)] = df[i][(df[i].isnull()) & (df[\"Outcome\"] == 0)].fillna(df[i][df[\"Outcome\"] == 0].mean())\n",
    "    df[i][(df[i].isnull()) & (df[\"Outcome\"] == 1)] = df[i][(df[i].isnull()) & (df[\"Outcome\"] == 1)].fillna(df[i][df[\"Outcome\"] == 1].mean())"
   ]
  },
  {
   "cell_type": "code",
   "execution_count": 29,
   "id": "7804a047",
   "metadata": {},
   "outputs": [
    {
     "data": {
      "text/plain": [
       "Pregnancies                 0\n",
       "Glucose                     0\n",
       "BloodPressure               0\n",
       "SkinThickness               0\n",
       "Insulin                     0\n",
       "BMI                         0\n",
       "DiabetesPedigreeFunction    0\n",
       "Age                         0\n",
       "Outcome                     0\n",
       "dtype: int64"
      ]
     },
     "execution_count": 29,
     "metadata": {},
     "output_type": "execute_result"
    }
   ],
   "source": [
    "df.isnull().sum()"
   ]
  },
  {
   "cell_type": "code",
   "execution_count": 30,
   "id": "65463993",
   "metadata": {},
   "outputs": [
    {
     "data": {
      "text/html": [
       "<div>\n",
       "<style scoped>\n",
       "    .dataframe tbody tr th:only-of-type {\n",
       "        vertical-align: middle;\n",
       "    }\n",
       "\n",
       "    .dataframe tbody tr th {\n",
       "        vertical-align: top;\n",
       "    }\n",
       "\n",
       "    .dataframe thead th {\n",
       "        text-align: right;\n",
       "    }\n",
       "</style>\n",
       "<table border=\"1\" class=\"dataframe\">\n",
       "  <thead>\n",
       "    <tr style=\"text-align: right;\">\n",
       "      <th></th>\n",
       "      <th>Pregnancies</th>\n",
       "      <th>Glucose</th>\n",
       "      <th>BloodPressure</th>\n",
       "      <th>SkinThickness</th>\n",
       "      <th>Insulin</th>\n",
       "      <th>BMI</th>\n",
       "      <th>DiabetesPedigreeFunction</th>\n",
       "      <th>Age</th>\n",
       "      <th>Outcome</th>\n",
       "    </tr>\n",
       "  </thead>\n",
       "  <tbody>\n",
       "    <tr>\n",
       "      <th>0</th>\n",
       "      <td>6</td>\n",
       "      <td>148.0</td>\n",
       "      <td>72.0</td>\n",
       "      <td>35.0</td>\n",
       "      <td>206.846154</td>\n",
       "      <td>33.6</td>\n",
       "      <td>0.627</td>\n",
       "      <td>50</td>\n",
       "      <td>1</td>\n",
       "    </tr>\n",
       "    <tr>\n",
       "      <th>1</th>\n",
       "      <td>1</td>\n",
       "      <td>85.0</td>\n",
       "      <td>66.0</td>\n",
       "      <td>29.0</td>\n",
       "      <td>130.287879</td>\n",
       "      <td>26.6</td>\n",
       "      <td>0.351</td>\n",
       "      <td>31</td>\n",
       "      <td>0</td>\n",
       "    </tr>\n",
       "    <tr>\n",
       "      <th>2</th>\n",
       "      <td>8</td>\n",
       "      <td>183.0</td>\n",
       "      <td>64.0</td>\n",
       "      <td>33.0</td>\n",
       "      <td>206.846154</td>\n",
       "      <td>23.3</td>\n",
       "      <td>0.672</td>\n",
       "      <td>32</td>\n",
       "      <td>1</td>\n",
       "    </tr>\n",
       "    <tr>\n",
       "      <th>3</th>\n",
       "      <td>1</td>\n",
       "      <td>89.0</td>\n",
       "      <td>66.0</td>\n",
       "      <td>23.0</td>\n",
       "      <td>94.000000</td>\n",
       "      <td>28.1</td>\n",
       "      <td>0.167</td>\n",
       "      <td>21</td>\n",
       "      <td>0</td>\n",
       "    </tr>\n",
       "    <tr>\n",
       "      <th>4</th>\n",
       "      <td>0</td>\n",
       "      <td>137.0</td>\n",
       "      <td>40.0</td>\n",
       "      <td>35.0</td>\n",
       "      <td>168.000000</td>\n",
       "      <td>43.1</td>\n",
       "      <td>2.288</td>\n",
       "      <td>33</td>\n",
       "      <td>1</td>\n",
       "    </tr>\n",
       "  </tbody>\n",
       "</table>\n",
       "</div>"
      ],
      "text/plain": [
       "   Pregnancies  Glucose  BloodPressure  SkinThickness     Insulin   BMI  \\\n",
       "0            6    148.0           72.0           35.0  206.846154  33.6   \n",
       "1            1     85.0           66.0           29.0  130.287879  26.6   \n",
       "2            8    183.0           64.0           33.0  206.846154  23.3   \n",
       "3            1     89.0           66.0           23.0   94.000000  28.1   \n",
       "4            0    137.0           40.0           35.0  168.000000  43.1   \n",
       "\n",
       "   DiabetesPedigreeFunction  Age  Outcome  \n",
       "0                     0.627   50        1  \n",
       "1                     0.351   31        0  \n",
       "2                     0.672   32        1  \n",
       "3                     0.167   21        0  \n",
       "4                     2.288   33        1  "
      ]
     },
     "execution_count": 30,
     "metadata": {},
     "output_type": "execute_result"
    }
   ],
   "source": [
    "df.head()"
   ]
  },
  {
   "cell_type": "code",
   "execution_count": 31,
   "id": "183346da",
   "metadata": {},
   "outputs": [
    {
     "name": "stdout",
     "output_type": "stream",
     "text": [
      "<class 'pandas.core.frame.DataFrame'>\n",
      "RangeIndex: 768 entries, 0 to 767\n",
      "Data columns (total 9 columns):\n",
      " #   Column                    Non-Null Count  Dtype  \n",
      "---  ------                    --------------  -----  \n",
      " 0   Pregnancies               768 non-null    int64  \n",
      " 1   Glucose                   768 non-null    float64\n",
      " 2   BloodPressure             768 non-null    float64\n",
      " 3   SkinThickness             768 non-null    float64\n",
      " 4   Insulin                   768 non-null    float64\n",
      " 5   BMI                       768 non-null    float64\n",
      " 6   DiabetesPedigreeFunction  768 non-null    float64\n",
      " 7   Age                       768 non-null    int64  \n",
      " 8   Outcome                   768 non-null    int64  \n",
      "dtypes: float64(6), int64(3)\n",
      "memory usage: 54.1 KB\n"
     ]
    }
   ],
   "source": [
    "df.info()"
   ]
  },
  {
   "cell_type": "code",
   "execution_count": 33,
   "id": "bd0c8429",
   "metadata": {},
   "outputs": [
    {
     "data": {
      "text/plain": [
       "(768, 9)"
      ]
     },
     "execution_count": 33,
     "metadata": {},
     "output_type": "execute_result"
    }
   ],
   "source": [
    "df.shape"
   ]
  },
  {
   "cell_type": "code",
   "execution_count": 34,
   "id": "ec7b2f11",
   "metadata": {},
   "outputs": [
    {
     "data": {
      "text/plain": [
       "0    500\n",
       "1    268\n",
       "Name: Outcome, dtype: int64"
      ]
     },
     "execution_count": 34,
     "metadata": {},
     "output_type": "execute_result"
    }
   ],
   "source": [
    "df[\"Outcome\"].value_counts()"
   ]
  },
  {
   "cell_type": "code",
   "execution_count": 35,
   "id": "b8488fd0",
   "metadata": {},
   "outputs": [
    {
     "data": {
      "text/plain": [
       "<AxesSubplot:>"
      ]
     },
     "execution_count": 35,
     "metadata": {},
     "output_type": "execute_result"
    },
    {
     "data": {
      "image/png": "[encoded data removed]",
      "text/plain": [
       "<Figure size 432x288 with 1 Axes>"
      ]
     },
     "metadata": {
      "needs_background": "light"
     },
     "output_type": "display_data"
    }
   ],
   "source": [
    "df.Outcome.value_counts().plot.barh()"
   ]
  },
  {
   "cell_type": "code",
   "execution_count": 36,
   "id": "520274f3",
   "metadata": {},
   "outputs": [
    {
     "data": {
      "text/html": [
       "<div>\n",
       "<style scoped>\n",
       "    .dataframe tbody tr th:only-of-type {\n",
       "        vertical-align: middle;\n",
       "    }\n",
       "\n",
       "    .dataframe tbody tr th {\n",
       "        vertical-align: top;\n",
       "    }\n",
       "\n",
       "    .dataframe thead th {\n",
       "        text-align: right;\n",
       "    }\n",
       "</style>\n",
       "<table border=\"1\" class=\"dataframe\">\n",
       "  <thead>\n",
       "    <tr style=\"text-align: right;\">\n",
       "      <th></th>\n",
       "      <th>Pregnancies</th>\n",
       "      <th>Glucose</th>\n",
       "      <th>BloodPressure</th>\n",
       "      <th>SkinThickness</th>\n",
       "      <th>Insulin</th>\n",
       "      <th>BMI</th>\n",
       "      <th>DiabetesPedigreeFunction</th>\n",
       "      <th>Age</th>\n",
       "      <th>Outcome</th>\n",
       "    </tr>\n",
       "  </thead>\n",
       "  <tbody>\n",
       "    <tr>\n",
       "      <th>count</th>\n",
       "      <td>768.000000</td>\n",
       "      <td>768.000000</td>\n",
       "      <td>768.000000</td>\n",
       "      <td>768.000000</td>\n",
       "      <td>768.000000</td>\n",
       "      <td>768.00000</td>\n",
       "      <td>768.000000</td>\n",
       "      <td>768.000000</td>\n",
       "      <td>768.000000</td>\n",
       "    </tr>\n",
       "    <tr>\n",
       "      <th>mean</th>\n",
       "      <td>3.845052</td>\n",
       "      <td>121.697358</td>\n",
       "      <td>72.428141</td>\n",
       "      <td>29.247042</td>\n",
       "      <td>157.003527</td>\n",
       "      <td>32.44642</td>\n",
       "      <td>0.471876</td>\n",
       "      <td>33.240885</td>\n",
       "      <td>0.348958</td>\n",
       "    </tr>\n",
       "    <tr>\n",
       "      <th>std</th>\n",
       "      <td>3.369578</td>\n",
       "      <td>30.462008</td>\n",
       "      <td>12.106044</td>\n",
       "      <td>8.923908</td>\n",
       "      <td>88.860914</td>\n",
       "      <td>6.87897</td>\n",
       "      <td>0.331329</td>\n",
       "      <td>11.760232</td>\n",
       "      <td>0.476951</td>\n",
       "    </tr>\n",
       "    <tr>\n",
       "      <th>min</th>\n",
       "      <td>0.000000</td>\n",
       "      <td>44.000000</td>\n",
       "      <td>24.000000</td>\n",
       "      <td>7.000000</td>\n",
       "      <td>14.000000</td>\n",
       "      <td>18.20000</td>\n",
       "      <td>0.078000</td>\n",
       "      <td>21.000000</td>\n",
       "      <td>0.000000</td>\n",
       "    </tr>\n",
       "    <tr>\n",
       "      <th>1%</th>\n",
       "      <td>0.000000</td>\n",
       "      <td>67.670000</td>\n",
       "      <td>44.000000</td>\n",
       "      <td>10.000000</td>\n",
       "      <td>24.340000</td>\n",
       "      <td>19.50000</td>\n",
       "      <td>0.094680</td>\n",
       "      <td>21.000000</td>\n",
       "      <td>0.000000</td>\n",
       "    </tr>\n",
       "    <tr>\n",
       "      <th>5%</th>\n",
       "      <td>0.000000</td>\n",
       "      <td>80.000000</td>\n",
       "      <td>52.000000</td>\n",
       "      <td>14.350000</td>\n",
       "      <td>50.000000</td>\n",
       "      <td>22.23500</td>\n",
       "      <td>0.140350</td>\n",
       "      <td>21.000000</td>\n",
       "      <td>0.000000</td>\n",
       "    </tr>\n",
       "    <tr>\n",
       "      <th>10%</th>\n",
       "      <td>0.000000</td>\n",
       "      <td>86.700000</td>\n",
       "      <td>58.000000</td>\n",
       "      <td>18.000000</td>\n",
       "      <td>67.000000</td>\n",
       "      <td>24.00000</td>\n",
       "      <td>0.165000</td>\n",
       "      <td>22.000000</td>\n",
       "      <td>0.000000</td>\n",
       "    </tr>\n",
       "    <tr>\n",
       "      <th>25%</th>\n",
       "      <td>1.000000</td>\n",
       "      <td>99.750000</td>\n",
       "      <td>64.000000</td>\n",
       "      <td>25.000000</td>\n",
       "      <td>121.500000</td>\n",
       "      <td>27.50000</td>\n",
       "      <td>0.243750</td>\n",
       "      <td>24.000000</td>\n",
       "      <td>0.000000</td>\n",
       "    </tr>\n",
       "    <tr>\n",
       "      <th>50%</th>\n",
       "      <td>3.000000</td>\n",
       "      <td>117.000000</td>\n",
       "      <td>72.000000</td>\n",
       "      <td>28.000000</td>\n",
       "      <td>130.287879</td>\n",
       "      <td>32.05000</td>\n",
       "      <td>0.372500</td>\n",
       "      <td>29.000000</td>\n",
       "      <td>0.000000</td>\n",
       "    </tr>\n",
       "    <tr>\n",
       "      <th>75%</th>\n",
       "      <td>6.000000</td>\n",
       "      <td>141.000000</td>\n",
       "      <td>80.000000</td>\n",
       "      <td>33.000000</td>\n",
       "      <td>206.846154</td>\n",
       "      <td>36.60000</td>\n",
       "      <td>0.626250</td>\n",
       "      <td>41.000000</td>\n",
       "      <td>1.000000</td>\n",
       "    </tr>\n",
       "    <tr>\n",
       "      <th>80%</th>\n",
       "      <td>7.000000</td>\n",
       "      <td>147.000000</td>\n",
       "      <td>82.000000</td>\n",
       "      <td>35.000000</td>\n",
       "      <td>206.846154</td>\n",
       "      <td>37.80000</td>\n",
       "      <td>0.687000</td>\n",
       "      <td>42.600000</td>\n",
       "      <td>1.000000</td>\n",
       "    </tr>\n",
       "    <tr>\n",
       "      <th>90%</th>\n",
       "      <td>9.000000</td>\n",
       "      <td>167.000000</td>\n",
       "      <td>88.000000</td>\n",
       "      <td>40.000000</td>\n",
       "      <td>210.000000</td>\n",
       "      <td>41.50000</td>\n",
       "      <td>0.878600</td>\n",
       "      <td>51.000000</td>\n",
       "      <td>1.000000</td>\n",
       "    </tr>\n",
       "    <tr>\n",
       "      <th>95%</th>\n",
       "      <td>10.000000</td>\n",
       "      <td>181.000000</td>\n",
       "      <td>90.000000</td>\n",
       "      <td>44.000000</td>\n",
       "      <td>293.000000</td>\n",
       "      <td>44.39500</td>\n",
       "      <td>1.132850</td>\n",
       "      <td>58.000000</td>\n",
       "      <td>1.000000</td>\n",
       "    </tr>\n",
       "    <tr>\n",
       "      <th>99%</th>\n",
       "      <td>13.000000</td>\n",
       "      <td>196.000000</td>\n",
       "      <td>106.000000</td>\n",
       "      <td>51.330000</td>\n",
       "      <td>519.900000</td>\n",
       "      <td>50.75900</td>\n",
       "      <td>1.698330</td>\n",
       "      <td>67.000000</td>\n",
       "      <td>1.000000</td>\n",
       "    </tr>\n",
       "    <tr>\n",
       "      <th>max</th>\n",
       "      <td>17.000000</td>\n",
       "      <td>199.000000</td>\n",
       "      <td>122.000000</td>\n",
       "      <td>99.000000</td>\n",
       "      <td>846.000000</td>\n",
       "      <td>67.10000</td>\n",
       "      <td>2.420000</td>\n",
       "      <td>81.000000</td>\n",
       "      <td>1.000000</td>\n",
       "    </tr>\n",
       "  </tbody>\n",
       "</table>\n",
       "</div>"
      ],
      "text/plain": [
       "       Pregnancies     Glucose  BloodPressure  SkinThickness     Insulin  \\\n",
       "count   768.000000  768.000000     768.000000     768.000000  768.000000   \n",
       "mean      3.845052  121.697358      72.428141      29.247042  157.003527   \n",
       "std       3.369578   30.462008      12.106044       8.923908   88.860914   \n",
       "min       0.000000   44.000000      24.000000       7.000000   14.000000   \n",
       "1%        0.000000   67.670000      44.000000      10.000000   24.340000   \n",
       "5%        0.000000   80.000000      52.000000      14.350000   50.000000   \n",
       "10%       0.000000   86.700000      58.000000      18.000000   67.000000   \n",
       "25%       1.000000   99.750000      64.000000      25.000000  121.500000   \n",
       "50%       3.000000  117.000000      72.000000      28.000000  130.287879   \n",
       "75%       6.000000  141.000000      80.000000      33.000000  206.846154   \n",
       "80%       7.000000  147.000000      82.000000      35.000000  206.846154   \n",
       "90%       9.000000  167.000000      88.000000      40.000000  210.000000   \n",
       "95%      10.000000  181.000000      90.000000      44.000000  293.000000   \n",
       "99%      13.000000  196.000000     106.000000      51.330000  519.900000   \n",
       "max      17.000000  199.000000     122.000000      99.000000  846.000000   \n",
       "\n",
       "             BMI  DiabetesPedigreeFunction         Age     Outcome  \n",
       "count  768.00000                768.000000  768.000000  768.000000  \n",
       "mean    32.44642                  0.471876   33.240885    0.348958  \n",
       "std      6.87897                  0.331329   11.760232    0.476951  \n",
       "min     18.20000                  0.078000   21.000000    0.000000  \n",
       "1%      19.50000                  0.094680   21.000000    0.000000  \n",
       "5%      22.23500                  0.140350   21.000000    0.000000  \n",
       "10%     24.00000                  0.165000   22.000000    0.000000  \n",
       "25%     27.50000                  0.243750   24.000000    0.000000  \n",
       "50%     32.05000                  0.372500   29.000000    0.000000  \n",
       "75%     36.60000                  0.626250   41.000000    1.000000  \n",
       "80%     37.80000                  0.687000   42.600000    1.000000  \n",
       "90%     41.50000                  0.878600   51.000000    1.000000  \n",
       "95%     44.39500                  1.132850   58.000000    1.000000  \n",
       "99%     50.75900                  1.698330   67.000000    1.000000  \n",
       "max     67.10000                  2.420000   81.000000    1.000000  "
      ]
     },
     "execution_count": 36,
     "metadata": {},
     "output_type": "execute_result"
    }
   ],
   "source": [
    "df.describe([0.01,0.05,0.10,0.25,0.50,0.75,0.80,0.90,0.95,0.99])"
   ]
  },
  {
   "cell_type": "code",
   "execution_count": 44,
   "id": "b54d2d99",
   "metadata": {},
   "outputs": [
    {
     "data": {
      "text/plain": [
       "<matplotlib.collections.PathCollection at 0x7feab925a190>"
      ]
     },
     "execution_count": 44,
     "metadata": {},
     "output_type": "execute_result"
    },
    {
     "data": {
      "image/png": "[encoded data removed]",
      "text/plain": [
       "<Figure size 432x288 with 1 Axes>"
      ]
     },
     "metadata": {
      "needs_background": "light"
     },
     "output_type": "display_data"
    }
   ],
   "source": [
    "plt.scatter(df.Glucose,df.Insulin)"
   ]
  },
  {
   "cell_type": "code",
   "execution_count": 45,
   "id": "4bc30c28",
   "metadata": {},
   "outputs": [
    {
     "data": {
      "text/plain": [
       "<seaborn.axisgrid.FacetGrid at 0x7fead84b6e50>"
      ]
     },
     "execution_count": 45,
     "metadata": {},
     "output_type": "execute_result"
    },
    {
     "data": {
      "image/png": "[encoded data removed]",
      "text/plain": [
       "<Figure size 360x360 with 1 Axes>"
      ]
     },
     "metadata": {
      "needs_background": "light"
     },
     "output_type": "display_data"
    }
   ],
   "source": [
    "sns.catplot(x = \"Outcome\", y = \"Glucose\", data = df)"
   ]
  },
  {
   "cell_type": "code",
   "execution_count": 46,
   "id": "4d64e077",
   "metadata": {},
   "outputs": [
    {
     "data": {
      "text/plain": [
       "<seaborn.axisgrid.FacetGrid at 0x7feaebe2e220>"
      ]
     },
     "execution_count": 46,
     "metadata": {},
     "output_type": "execute_result"
    },
    {
     "data": {
      "image/png": "[encoded data removed]",
      "text/plain": [
       "<Figure size 360x360 with 1 Axes>"
      ]
     },
     "metadata": {
      "needs_background": "light"
     },
     "output_type": "display_data"
    }
   ],
   "source": [
    "sns.catplot(x = \"Outcome\", y = \"Insulin\", data = df)"
   ]
  },
  {
   "cell_type": "code",
   "execution_count": 47,
   "id": "72e4682e",
   "metadata": {},
   "outputs": [
    {
     "data": {
      "text/plain": [
       "<seaborn.axisgrid.FacetGrid at 0x7feaebdb4e50>"
      ]
     },
     "execution_count": 47,
     "metadata": {},
     "output_type": "execute_result"
    },
    {
     "data": {
      "image/png": "[encoded data removed]",
      "text/plain": [
       "<Figure size 360x360 with 1 Axes>"
      ]
     },
     "metadata": {
      "needs_background": "light"
     },
     "output_type": "display_data"
    }
   ],
   "source": [
    "sns.catplot(x = \"Outcome\", y = \"BloodPressure\", data = df)"
   ]
  },
  {
   "cell_type": "code",
   "execution_count": 48,
   "id": "b681c6d7",
   "metadata": {},
   "outputs": [
    {
     "data": {
      "text/plain": [
       "<seaborn.axisgrid.FacetGrid at 0x7fea88057820>"
      ]
     },
     "execution_count": 48,
     "metadata": {},
     "output_type": "execute_result"
    },
    {
     "data": {
      "image/png": "[encoded data removed]",
      "text/plain": [
       "<Figure size 360x360 with 1 Axes>"
      ]
     },
     "metadata": {
      "needs_background": "light"
     },
     "output_type": "display_data"
    }
   ],
   "source": [
    "sns.catplot(x = \"Outcome\", y = \"BMI\", data = df)"
   ]
  },
  {
   "cell_type": "code",
   "execution_count": 53,
   "id": "53b6f513",
   "metadata": {},
   "outputs": [
    {
     "data": {
      "text/plain": [
       "<AxesSubplot:>"
      ]
     },
     "execution_count": 53,
     "metadata": {},
     "output_type": "execute_result"
    },
    {
     "data": {
      "image/png": "[encoded data removed]",
      "text/plain": [
       "<Figure size 1440x1080 with 2 Axes>"
      ]
     },
     "metadata": {
      "needs_background": "light"
     },
     "output_type": "display_data"
    }
   ],
   "source": [
    "f, ax = plt.subplots(figsize= [20,15])\n",
    "sns.heatmap(df.corr(),annot=True,ax=ax)"
   ]
  },
  {
   "cell_type": "markdown",
   "id": "ccb94d4f",
   "metadata": {},
   "source": [
    "Şimdi aykırı değerleri belirleyip onları baskılayacağız. (IQR)"
   ]
  },
  {
   "cell_type": "code",
   "execution_count": 54,
   "id": "55ea419b",
   "metadata": {},
   "outputs": [
    {
     "name": "stdout",
     "output_type": "stream",
     "text": [
      "Pregnancies no\n",
      "Glucose no\n",
      "BloodPressure no\n",
      "SkinThickness yes\n",
      "1\n",
      "lower -30.124999999999993 \n",
      "upper 88.475\n",
      "Insulin yes\n",
      "3\n",
      "lower -314.5 \n",
      "upper 657.5\n",
      "BMI no\n",
      "DiabetesPedigreeFunction no\n",
      "Age no\n",
      "Outcome no\n"
     ]
    }
   ],
   "source": [
    "for feature in df:\n",
    "\n",
    "    Q1 = df[feature].quantile(0.05)\n",
    "    Q3 = df[feature].quantile(0.95)\n",
    "    IQR = Q3-Q1\n",
    "    upper = Q3 + 1.5*IQR\n",
    "    lower = Q1 - 1.5*IQR\n",
    "\n",
    "    if df[(df[feature] > upper) | (df[feature] < lower)].any(axis=None):\n",
    "        print(feature,\"yes\")\n",
    "        print(df[(df[feature] > upper) | (df[feature] < lower)].shape[0])\n",
    "        print(\"lower\",lower,\"\\nupper\",upper)\n",
    "        df.loc[df[feature] > upper,feature] = upper\n",
    "    else:\n",
    "        print(feature, \"no\")"
   ]
  },
  {
   "cell_type": "markdown",
   "id": "2351549a",
   "metadata": {},
   "source": [
    "Yukarıda gördüğünüz gibi aykırı değer bulundurmayan değişkenlerin yanında “no”, bulunduranların yanında ise “yes” yazıyor. Alt satırlara bakıldığında da görülüyor, alt ve üst sınırları da sayısal olarak belirtilmiş. Yukarıdaki kod bloğunda df.loc[df[feature] > upper,feature] = upper kısmında bütün üst sınırdan büyük sayıları üst sınıra eşitledik. Buna baskılama denir."
   ]
  },
  {
   "cell_type": "markdown",
   "id": "7b07c010",
   "metadata": {},
   "source": [
    "Şimdi de belirli özellikleri segmentlere ayıracağız. Örneğin beden kitle endeksi 18.5'dan düşük olan kişileri “underweight” olarak sınıflandırmak gibi.."
   ]
  },
  {
   "cell_type": "code",
   "execution_count": 56,
   "id": "d21b3343",
   "metadata": {},
   "outputs": [],
   "source": [
    "df['BMIRanges'] = pd.cut(x=df['BMI'], bins=[0,18.5,25,30,100],labels = [\"Underweight\",\"Healthy\",\n",
    "                                                                        \"Overweight\",\"Obese\"])"
   ]
  },
  {
   "cell_type": "markdown",
   "id": "5fbf889d",
   "metadata": {},
   "source": [
    "Yukarıdaki kod bloğu df dataFrame’e “BMIRanges” adında yeni bir sütun (değişken) ekledi.\n",
    "Bu değişken: Beden kitle endekslerine göre insanları Underweight (18.5-), Healthy(18.5–25), Overweight(25–30) veya Obese(30+) olarak sınıflandırdı."
   ]
  },
  {
   "cell_type": "code",
   "execution_count": 57,
   "id": "143ae6f8",
   "metadata": {},
   "outputs": [
    {
     "data": {
      "text/html": [
       "<div>\n",
       "<style scoped>\n",
       "    .dataframe tbody tr th:only-of-type {\n",
       "        vertical-align: middle;\n",
       "    }\n",
       "\n",
       "    .dataframe tbody tr th {\n",
       "        vertical-align: top;\n",
       "    }\n",
       "\n",
       "    .dataframe thead th {\n",
       "        text-align: right;\n",
       "    }\n",
       "</style>\n",
       "<table border=\"1\" class=\"dataframe\">\n",
       "  <thead>\n",
       "    <tr style=\"text-align: right;\">\n",
       "      <th></th>\n",
       "      <th>Pregnancies</th>\n",
       "      <th>Glucose</th>\n",
       "      <th>BloodPressure</th>\n",
       "      <th>SkinThickness</th>\n",
       "      <th>Insulin</th>\n",
       "      <th>BMI</th>\n",
       "      <th>DiabetesPedigreeFunction</th>\n",
       "      <th>Age</th>\n",
       "      <th>Outcome</th>\n",
       "      <th>BMIRanges</th>\n",
       "    </tr>\n",
       "  </thead>\n",
       "  <tbody>\n",
       "    <tr>\n",
       "      <th>0</th>\n",
       "      <td>6</td>\n",
       "      <td>148.0</td>\n",
       "      <td>72.0</td>\n",
       "      <td>35.0</td>\n",
       "      <td>206.846154</td>\n",
       "      <td>33.6</td>\n",
       "      <td>0.627</td>\n",
       "      <td>50</td>\n",
       "      <td>1</td>\n",
       "      <td>Obese</td>\n",
       "    </tr>\n",
       "    <tr>\n",
       "      <th>1</th>\n",
       "      <td>1</td>\n",
       "      <td>85.0</td>\n",
       "      <td>66.0</td>\n",
       "      <td>29.0</td>\n",
       "      <td>130.287879</td>\n",
       "      <td>26.6</td>\n",
       "      <td>0.351</td>\n",
       "      <td>31</td>\n",
       "      <td>0</td>\n",
       "      <td>Overweight</td>\n",
       "    </tr>\n",
       "    <tr>\n",
       "      <th>2</th>\n",
       "      <td>8</td>\n",
       "      <td>183.0</td>\n",
       "      <td>64.0</td>\n",
       "      <td>33.0</td>\n",
       "      <td>206.846154</td>\n",
       "      <td>23.3</td>\n",
       "      <td>0.672</td>\n",
       "      <td>32</td>\n",
       "      <td>1</td>\n",
       "      <td>Healthy</td>\n",
       "    </tr>\n",
       "    <tr>\n",
       "      <th>3</th>\n",
       "      <td>1</td>\n",
       "      <td>89.0</td>\n",
       "      <td>66.0</td>\n",
       "      <td>23.0</td>\n",
       "      <td>94.000000</td>\n",
       "      <td>28.1</td>\n",
       "      <td>0.167</td>\n",
       "      <td>21</td>\n",
       "      <td>0</td>\n",
       "      <td>Overweight</td>\n",
       "    </tr>\n",
       "    <tr>\n",
       "      <th>4</th>\n",
       "      <td>0</td>\n",
       "      <td>137.0</td>\n",
       "      <td>40.0</td>\n",
       "      <td>35.0</td>\n",
       "      <td>168.000000</td>\n",
       "      <td>43.1</td>\n",
       "      <td>2.288</td>\n",
       "      <td>33</td>\n",
       "      <td>1</td>\n",
       "      <td>Obese</td>\n",
       "    </tr>\n",
       "  </tbody>\n",
       "</table>\n",
       "</div>"
      ],
      "text/plain": [
       "   Pregnancies  Glucose  BloodPressure  SkinThickness     Insulin   BMI  \\\n",
       "0            6    148.0           72.0           35.0  206.846154  33.6   \n",
       "1            1     85.0           66.0           29.0  130.287879  26.6   \n",
       "2            8    183.0           64.0           33.0  206.846154  23.3   \n",
       "3            1     89.0           66.0           23.0   94.000000  28.1   \n",
       "4            0    137.0           40.0           35.0  168.000000  43.1   \n",
       "\n",
       "   DiabetesPedigreeFunction  Age  Outcome   BMIRanges  \n",
       "0                     0.627   50        1       Obese  \n",
       "1                     0.351   31        0  Overweight  \n",
       "2                     0.672   32        1     Healthy  \n",
       "3                     0.167   21        0  Overweight  \n",
       "4                     2.288   33        1       Obese  "
      ]
     },
     "execution_count": 57,
     "metadata": {},
     "output_type": "execute_result"
    }
   ],
   "source": [
    "df.head()"
   ]
  },
  {
   "cell_type": "markdown",
   "id": "8090e9e9",
   "metadata": {},
   "source": [
    "Yeni bir sütun (değişken) daha ekleyeceğiz. Bu değişken, insülin değerlerinin normal mi anormal mi olduğunu belirtecek."
   ]
  },
  {
   "cell_type": "code",
   "execution_count": 59,
   "id": "7a1b59d0",
   "metadata": {},
   "outputs": [],
   "source": [
    "def set_insulin(row):\n",
    "    if row[\"Insulin\"] >= 16 and row[\"Insulin\"] <= 166:\n",
    "        return \"Normal\"\n",
    "    else:\n",
    "        return \"Abnormal\"\n",
    "    \n",
    "df = df.assign(INSULIN_DESC=df.apply(set_insulin, axis=1))"
   ]
  },
  {
   "cell_type": "markdown",
   "id": "47b1a8e6",
   "metadata": {},
   "source": [
    "Bu kod bloğuna göre, Insulin değeri 16 ile 166 arasında olan değerler normal; Bu aralığın dışında olan değerler ise anormal olarak kabul edilir."
   ]
  },
  {
   "cell_type": "code",
   "execution_count": 60,
   "id": "6e4389e5",
   "metadata": {},
   "outputs": [
    {
     "data": {
      "text/html": [
       "<div>\n",
       "<style scoped>\n",
       "    .dataframe tbody tr th:only-of-type {\n",
       "        vertical-align: middle;\n",
       "    }\n",
       "\n",
       "    .dataframe tbody tr th {\n",
       "        vertical-align: top;\n",
       "    }\n",
       "\n",
       "    .dataframe thead th {\n",
       "        text-align: right;\n",
       "    }\n",
       "</style>\n",
       "<table border=\"1\" class=\"dataframe\">\n",
       "  <thead>\n",
       "    <tr style=\"text-align: right;\">\n",
       "      <th></th>\n",
       "      <th>Pregnancies</th>\n",
       "      <th>Glucose</th>\n",
       "      <th>BloodPressure</th>\n",
       "      <th>SkinThickness</th>\n",
       "      <th>Insulin</th>\n",
       "      <th>BMI</th>\n",
       "      <th>DiabetesPedigreeFunction</th>\n",
       "      <th>Age</th>\n",
       "      <th>Outcome</th>\n",
       "      <th>BMIRanges</th>\n",
       "      <th>INSULIN_DESC</th>\n",
       "    </tr>\n",
       "  </thead>\n",
       "  <tbody>\n",
       "    <tr>\n",
       "      <th>0</th>\n",
       "      <td>6</td>\n",
       "      <td>148.0</td>\n",
       "      <td>72.0</td>\n",
       "      <td>35.0</td>\n",
       "      <td>206.846154</td>\n",
       "      <td>33.6</td>\n",
       "      <td>0.627</td>\n",
       "      <td>50</td>\n",
       "      <td>1</td>\n",
       "      <td>Obese</td>\n",
       "      <td>Abnormal</td>\n",
       "    </tr>\n",
       "    <tr>\n",
       "      <th>1</th>\n",
       "      <td>1</td>\n",
       "      <td>85.0</td>\n",
       "      <td>66.0</td>\n",
       "      <td>29.0</td>\n",
       "      <td>130.287879</td>\n",
       "      <td>26.6</td>\n",
       "      <td>0.351</td>\n",
       "      <td>31</td>\n",
       "      <td>0</td>\n",
       "      <td>Overweight</td>\n",
       "      <td>Normal</td>\n",
       "    </tr>\n",
       "    <tr>\n",
       "      <th>2</th>\n",
       "      <td>8</td>\n",
       "      <td>183.0</td>\n",
       "      <td>64.0</td>\n",
       "      <td>33.0</td>\n",
       "      <td>206.846154</td>\n",
       "      <td>23.3</td>\n",
       "      <td>0.672</td>\n",
       "      <td>32</td>\n",
       "      <td>1</td>\n",
       "      <td>Healthy</td>\n",
       "      <td>Abnormal</td>\n",
       "    </tr>\n",
       "    <tr>\n",
       "      <th>3</th>\n",
       "      <td>1</td>\n",
       "      <td>89.0</td>\n",
       "      <td>66.0</td>\n",
       "      <td>23.0</td>\n",
       "      <td>94.000000</td>\n",
       "      <td>28.1</td>\n",
       "      <td>0.167</td>\n",
       "      <td>21</td>\n",
       "      <td>0</td>\n",
       "      <td>Overweight</td>\n",
       "      <td>Normal</td>\n",
       "    </tr>\n",
       "    <tr>\n",
       "      <th>4</th>\n",
       "      <td>0</td>\n",
       "      <td>137.0</td>\n",
       "      <td>40.0</td>\n",
       "      <td>35.0</td>\n",
       "      <td>168.000000</td>\n",
       "      <td>43.1</td>\n",
       "      <td>2.288</td>\n",
       "      <td>33</td>\n",
       "      <td>1</td>\n",
       "      <td>Obese</td>\n",
       "      <td>Abnormal</td>\n",
       "    </tr>\n",
       "  </tbody>\n",
       "</table>\n",
       "</div>"
      ],
      "text/plain": [
       "   Pregnancies  Glucose  BloodPressure  SkinThickness     Insulin   BMI  \\\n",
       "0            6    148.0           72.0           35.0  206.846154  33.6   \n",
       "1            1     85.0           66.0           29.0  130.287879  26.6   \n",
       "2            8    183.0           64.0           33.0  206.846154  23.3   \n",
       "3            1     89.0           66.0           23.0   94.000000  28.1   \n",
       "4            0    137.0           40.0           35.0  168.000000  43.1   \n",
       "\n",
       "   DiabetesPedigreeFunction  Age  Outcome   BMIRanges INSULIN_DESC  \n",
       "0                     0.627   50        1       Obese     Abnormal  \n",
       "1                     0.351   31        0  Overweight       Normal  \n",
       "2                     0.672   32        1     Healthy     Abnormal  \n",
       "3                     0.167   21        0  Overweight       Normal  \n",
       "4                     2.288   33        1       Obese     Abnormal  "
      ]
     },
     "execution_count": 60,
     "metadata": {},
     "output_type": "execute_result"
    }
   ],
   "source": [
    "df.head()"
   ]
  },
  {
   "cell_type": "markdown",
   "id": "dde5f1cf",
   "metadata": {},
   "source": [
    "Şimdi Glikoz ile ilgili bir sınıflandırma yapacağız."
   ]
  },
  {
   "cell_type": "code",
   "execution_count": 61,
   "id": "f64bd63d",
   "metadata": {},
   "outputs": [],
   "source": [
    "df['NewGlucose'] = pd.cut(x=df['Glucose'], bins=[0,70,99,126,200],labels = [\"Low\",\"Normal\",\"Secret\",\"High\"])"
   ]
  },
  {
   "cell_type": "code",
   "execution_count": 62,
   "id": "95aa8481",
   "metadata": {},
   "outputs": [
    {
     "data": {
      "text/html": [
       "<div>\n",
       "<style scoped>\n",
       "    .dataframe tbody tr th:only-of-type {\n",
       "        vertical-align: middle;\n",
       "    }\n",
       "\n",
       "    .dataframe tbody tr th {\n",
       "        vertical-align: top;\n",
       "    }\n",
       "\n",
       "    .dataframe thead th {\n",
       "        text-align: right;\n",
       "    }\n",
       "</style>\n",
       "<table border=\"1\" class=\"dataframe\">\n",
       "  <thead>\n",
       "    <tr style=\"text-align: right;\">\n",
       "      <th></th>\n",
       "      <th>Pregnancies</th>\n",
       "      <th>Glucose</th>\n",
       "      <th>BloodPressure</th>\n",
       "      <th>SkinThickness</th>\n",
       "      <th>Insulin</th>\n",
       "      <th>BMI</th>\n",
       "      <th>DiabetesPedigreeFunction</th>\n",
       "      <th>Age</th>\n",
       "      <th>Outcome</th>\n",
       "      <th>BMIRanges</th>\n",
       "      <th>INSULIN_DESC</th>\n",
       "      <th>NewGlucose</th>\n",
       "    </tr>\n",
       "  </thead>\n",
       "  <tbody>\n",
       "    <tr>\n",
       "      <th>0</th>\n",
       "      <td>6</td>\n",
       "      <td>148.0</td>\n",
       "      <td>72.0</td>\n",
       "      <td>35.0</td>\n",
       "      <td>206.846154</td>\n",
       "      <td>33.6</td>\n",
       "      <td>0.627</td>\n",
       "      <td>50</td>\n",
       "      <td>1</td>\n",
       "      <td>Obese</td>\n",
       "      <td>Abnormal</td>\n",
       "      <td>High</td>\n",
       "    </tr>\n",
       "    <tr>\n",
       "      <th>1</th>\n",
       "      <td>1</td>\n",
       "      <td>85.0</td>\n",
       "      <td>66.0</td>\n",
       "      <td>29.0</td>\n",
       "      <td>130.287879</td>\n",
       "      <td>26.6</td>\n",
       "      <td>0.351</td>\n",
       "      <td>31</td>\n",
       "      <td>0</td>\n",
       "      <td>Overweight</td>\n",
       "      <td>Normal</td>\n",
       "      <td>Normal</td>\n",
       "    </tr>\n",
       "    <tr>\n",
       "      <th>2</th>\n",
       "      <td>8</td>\n",
       "      <td>183.0</td>\n",
       "      <td>64.0</td>\n",
       "      <td>33.0</td>\n",
       "      <td>206.846154</td>\n",
       "      <td>23.3</td>\n",
       "      <td>0.672</td>\n",
       "      <td>32</td>\n",
       "      <td>1</td>\n",
       "      <td>Healthy</td>\n",
       "      <td>Abnormal</td>\n",
       "      <td>High</td>\n",
       "    </tr>\n",
       "    <tr>\n",
       "      <th>3</th>\n",
       "      <td>1</td>\n",
       "      <td>89.0</td>\n",
       "      <td>66.0</td>\n",
       "      <td>23.0</td>\n",
       "      <td>94.000000</td>\n",
       "      <td>28.1</td>\n",
       "      <td>0.167</td>\n",
       "      <td>21</td>\n",
       "      <td>0</td>\n",
       "      <td>Overweight</td>\n",
       "      <td>Normal</td>\n",
       "      <td>Normal</td>\n",
       "    </tr>\n",
       "    <tr>\n",
       "      <th>4</th>\n",
       "      <td>0</td>\n",
       "      <td>137.0</td>\n",
       "      <td>40.0</td>\n",
       "      <td>35.0</td>\n",
       "      <td>168.000000</td>\n",
       "      <td>43.1</td>\n",
       "      <td>2.288</td>\n",
       "      <td>33</td>\n",
       "      <td>1</td>\n",
       "      <td>Obese</td>\n",
       "      <td>Abnormal</td>\n",
       "      <td>High</td>\n",
       "    </tr>\n",
       "  </tbody>\n",
       "</table>\n",
       "</div>"
      ],
      "text/plain": [
       "   Pregnancies  Glucose  BloodPressure  SkinThickness     Insulin   BMI  \\\n",
       "0            6    148.0           72.0           35.0  206.846154  33.6   \n",
       "1            1     85.0           66.0           29.0  130.287879  26.6   \n",
       "2            8    183.0           64.0           33.0  206.846154  23.3   \n",
       "3            1     89.0           66.0           23.0   94.000000  28.1   \n",
       "4            0    137.0           40.0           35.0  168.000000  43.1   \n",
       "\n",
       "   DiabetesPedigreeFunction  Age  Outcome   BMIRanges INSULIN_DESC NewGlucose  \n",
       "0                     0.627   50        1       Obese     Abnormal       High  \n",
       "1                     0.351   31        0  Overweight       Normal     Normal  \n",
       "2                     0.672   32        1     Healthy     Abnormal       High  \n",
       "3                     0.167   21        0  Overweight       Normal     Normal  \n",
       "4                     2.288   33        1       Obese     Abnormal       High  "
      ]
     },
     "execution_count": 62,
     "metadata": {},
     "output_type": "execute_result"
    }
   ],
   "source": [
    "df.head()"
   ]
  },
  {
   "cell_type": "markdown",
   "id": "2f4e2715",
   "metadata": {},
   "source": [
    "Yine yeni bir sütun ekledik ve sınıflandırma yaptık. Bu değişken glikoz değerlerini: Low(70-), Normal(70–99), Secret(99–126) ve High (126–200) olarak sınıflandırır."
   ]
  },
  {
   "cell_type": "markdown",
   "id": "08f3f70d",
   "metadata": {},
   "source": [
    "Şimdi, elimizdeki sözel sınıfları sayılara çevirmek için get_dummies (One Hot Encoding) uygulamasını yapıyoruz."
   ]
  },
  {
   "cell_type": "code",
   "execution_count": 63,
   "id": "08d06739",
   "metadata": {},
   "outputs": [],
   "source": [
    "df = pd.get_dummies(df,drop_first=True)"
   ]
  },
  {
   "cell_type": "code",
   "execution_count": 64,
   "id": "373ee296",
   "metadata": {},
   "outputs": [
    {
     "data": {
      "text/html": [
       "<div>\n",
       "<style scoped>\n",
       "    .dataframe tbody tr th:only-of-type {\n",
       "        vertical-align: middle;\n",
       "    }\n",
       "\n",
       "    .dataframe tbody tr th {\n",
       "        vertical-align: top;\n",
       "    }\n",
       "\n",
       "    .dataframe thead th {\n",
       "        text-align: right;\n",
       "    }\n",
       "</style>\n",
       "<table border=\"1\" class=\"dataframe\">\n",
       "  <thead>\n",
       "    <tr style=\"text-align: right;\">\n",
       "      <th></th>\n",
       "      <th>Pregnancies</th>\n",
       "      <th>Glucose</th>\n",
       "      <th>BloodPressure</th>\n",
       "      <th>SkinThickness</th>\n",
       "      <th>Insulin</th>\n",
       "      <th>BMI</th>\n",
       "      <th>DiabetesPedigreeFunction</th>\n",
       "      <th>Age</th>\n",
       "      <th>Outcome</th>\n",
       "      <th>BMIRanges_Healthy</th>\n",
       "      <th>BMIRanges_Overweight</th>\n",
       "      <th>BMIRanges_Obese</th>\n",
       "      <th>INSULIN_DESC_Normal</th>\n",
       "      <th>NewGlucose_Normal</th>\n",
       "      <th>NewGlucose_Secret</th>\n",
       "      <th>NewGlucose_High</th>\n",
       "    </tr>\n",
       "  </thead>\n",
       "  <tbody>\n",
       "    <tr>\n",
       "      <th>0</th>\n",
       "      <td>6</td>\n",
       "      <td>148.0</td>\n",
       "      <td>72.0</td>\n",
       "      <td>35.0</td>\n",
       "      <td>206.846154</td>\n",
       "      <td>33.6</td>\n",
       "      <td>0.627</td>\n",
       "      <td>50</td>\n",
       "      <td>1</td>\n",
       "      <td>0</td>\n",
       "      <td>0</td>\n",
       "      <td>1</td>\n",
       "      <td>0</td>\n",
       "      <td>0</td>\n",
       "      <td>0</td>\n",
       "      <td>1</td>\n",
       "    </tr>\n",
       "    <tr>\n",
       "      <th>1</th>\n",
       "      <td>1</td>\n",
       "      <td>85.0</td>\n",
       "      <td>66.0</td>\n",
       "      <td>29.0</td>\n",
       "      <td>130.287879</td>\n",
       "      <td>26.6</td>\n",
       "      <td>0.351</td>\n",
       "      <td>31</td>\n",
       "      <td>0</td>\n",
       "      <td>0</td>\n",
       "      <td>1</td>\n",
       "      <td>0</td>\n",
       "      <td>1</td>\n",
       "      <td>1</td>\n",
       "      <td>0</td>\n",
       "      <td>0</td>\n",
       "    </tr>\n",
       "    <tr>\n",
       "      <th>2</th>\n",
       "      <td>8</td>\n",
       "      <td>183.0</td>\n",
       "      <td>64.0</td>\n",
       "      <td>33.0</td>\n",
       "      <td>206.846154</td>\n",
       "      <td>23.3</td>\n",
       "      <td>0.672</td>\n",
       "      <td>32</td>\n",
       "      <td>1</td>\n",
       "      <td>1</td>\n",
       "      <td>0</td>\n",
       "      <td>0</td>\n",
       "      <td>0</td>\n",
       "      <td>0</td>\n",
       "      <td>0</td>\n",
       "      <td>1</td>\n",
       "    </tr>\n",
       "    <tr>\n",
       "      <th>3</th>\n",
       "      <td>1</td>\n",
       "      <td>89.0</td>\n",
       "      <td>66.0</td>\n",
       "      <td>23.0</td>\n",
       "      <td>94.000000</td>\n",
       "      <td>28.1</td>\n",
       "      <td>0.167</td>\n",
       "      <td>21</td>\n",
       "      <td>0</td>\n",
       "      <td>0</td>\n",
       "      <td>1</td>\n",
       "      <td>0</td>\n",
       "      <td>1</td>\n",
       "      <td>1</td>\n",
       "      <td>0</td>\n",
       "      <td>0</td>\n",
       "    </tr>\n",
       "    <tr>\n",
       "      <th>4</th>\n",
       "      <td>0</td>\n",
       "      <td>137.0</td>\n",
       "      <td>40.0</td>\n",
       "      <td>35.0</td>\n",
       "      <td>168.000000</td>\n",
       "      <td>43.1</td>\n",
       "      <td>2.288</td>\n",
       "      <td>33</td>\n",
       "      <td>1</td>\n",
       "      <td>0</td>\n",
       "      <td>0</td>\n",
       "      <td>1</td>\n",
       "      <td>0</td>\n",
       "      <td>0</td>\n",
       "      <td>0</td>\n",
       "      <td>1</td>\n",
       "    </tr>\n",
       "  </tbody>\n",
       "</table>\n",
       "</div>"
      ],
      "text/plain": [
       "   Pregnancies  Glucose  BloodPressure  SkinThickness     Insulin   BMI  \\\n",
       "0            6    148.0           72.0           35.0  206.846154  33.6   \n",
       "1            1     85.0           66.0           29.0  130.287879  26.6   \n",
       "2            8    183.0           64.0           33.0  206.846154  23.3   \n",
       "3            1     89.0           66.0           23.0   94.000000  28.1   \n",
       "4            0    137.0           40.0           35.0  168.000000  43.1   \n",
       "\n",
       "   DiabetesPedigreeFunction  Age  Outcome  BMIRanges_Healthy  \\\n",
       "0                     0.627   50        1                  0   \n",
       "1                     0.351   31        0                  0   \n",
       "2                     0.672   32        1                  1   \n",
       "3                     0.167   21        0                  0   \n",
       "4                     2.288   33        1                  0   \n",
       "\n",
       "   BMIRanges_Overweight  BMIRanges_Obese  INSULIN_DESC_Normal  \\\n",
       "0                     0                1                    0   \n",
       "1                     1                0                    1   \n",
       "2                     0                0                    0   \n",
       "3                     1                0                    1   \n",
       "4                     0                1                    0   \n",
       "\n",
       "   NewGlucose_Normal  NewGlucose_Secret  NewGlucose_High  \n",
       "0                  0                  0                1  \n",
       "1                  1                  0                0  \n",
       "2                  0                  0                1  \n",
       "3                  1                  0                0  \n",
       "4                  0                  0                1  "
      ]
     },
     "execution_count": 64,
     "metadata": {},
     "output_type": "execute_result"
    }
   ],
   "source": [
    "df.head()"
   ]
  },
  {
   "cell_type": "markdown",
   "id": "1bfc9e83",
   "metadata": {},
   "source": [
    "Görüldüğü gibi DataFrame’in sonuna yukarıda gördüğünüz sütunlar eklenmiş oldu.\n",
    "\n",
    "Şimdi değişkenleri ölçeklendirme kısmına geçelim."
   ]
  },
  {
   "cell_type": "code",
   "execution_count": 65,
   "id": "d7ad625c",
   "metadata": {},
   "outputs": [],
   "source": [
    "from sklearn.preprocessing import RobustScaler"
   ]
  },
  {
   "cell_type": "code",
   "execution_count": 66,
   "id": "ec9e0572",
   "metadata": {},
   "outputs": [],
   "source": [
    "r_scaler = RobustScaler()\n",
    "df_r = r_scaler.fit_transform(df.drop([\"Outcome\",\"BMIRanges_Healthy\",\"BMIRanges_Overweight\",\n",
    "                                       \"BMIRanges_Obese\",\"INSULIN_DESC_Normal\",\"NewGlucose_Normal\",\n",
    "                                       \"NewGlucose_Secret\",\"NewGlucose_High\"],axis=1))\n",
    "\n",
    "df_r = pd.DataFrame(df_r, columns=[\"Pregnancies\",\"Glucose\",\"BloodPressure\",\"SkinThickness\",\n",
    "                                   \"Insulin\",\"BMI\",\"DiabetesPedigreeFunction\",\"Age\"])"
   ]
  },
  {
   "cell_type": "code",
   "execution_count": 67,
   "id": "1ada962a",
   "metadata": {},
   "outputs": [
    {
     "data": {
      "text/html": [
       "<div>\n",
       "<style scoped>\n",
       "    .dataframe tbody tr th:only-of-type {\n",
       "        vertical-align: middle;\n",
       "    }\n",
       "\n",
       "    .dataframe tbody tr th {\n",
       "        vertical-align: top;\n",
       "    }\n",
       "\n",
       "    .dataframe thead th {\n",
       "        text-align: right;\n",
       "    }\n",
       "</style>\n",
       "<table border=\"1\" class=\"dataframe\">\n",
       "  <thead>\n",
       "    <tr style=\"text-align: right;\">\n",
       "      <th></th>\n",
       "      <th>Pregnancies</th>\n",
       "      <th>Glucose</th>\n",
       "      <th>BloodPressure</th>\n",
       "      <th>SkinThickness</th>\n",
       "      <th>Insulin</th>\n",
       "      <th>BMI</th>\n",
       "      <th>DiabetesPedigreeFunction</th>\n",
       "      <th>Age</th>\n",
       "    </tr>\n",
       "  </thead>\n",
       "  <tbody>\n",
       "    <tr>\n",
       "      <th>0</th>\n",
       "      <td>0.6</td>\n",
       "      <td>0.751515</td>\n",
       "      <td>0.000</td>\n",
       "      <td>0.875</td>\n",
       "      <td>0.897033</td>\n",
       "      <td>0.170330</td>\n",
       "      <td>0.665359</td>\n",
       "      <td>1.235294</td>\n",
       "    </tr>\n",
       "    <tr>\n",
       "      <th>1</th>\n",
       "      <td>-0.4</td>\n",
       "      <td>-0.775758</td>\n",
       "      <td>-0.375</td>\n",
       "      <td>0.125</td>\n",
       "      <td>0.000000</td>\n",
       "      <td>-0.598901</td>\n",
       "      <td>-0.056209</td>\n",
       "      <td>0.117647</td>\n",
       "    </tr>\n",
       "    <tr>\n",
       "      <th>2</th>\n",
       "      <td>1.0</td>\n",
       "      <td>1.600000</td>\n",
       "      <td>-0.500</td>\n",
       "      <td>0.625</td>\n",
       "      <td>0.897033</td>\n",
       "      <td>-0.961538</td>\n",
       "      <td>0.783007</td>\n",
       "      <td>0.176471</td>\n",
       "    </tr>\n",
       "    <tr>\n",
       "      <th>3</th>\n",
       "      <td>-0.4</td>\n",
       "      <td>-0.678788</td>\n",
       "      <td>-0.375</td>\n",
       "      <td>-0.625</td>\n",
       "      <td>-0.425185</td>\n",
       "      <td>-0.434066</td>\n",
       "      <td>-0.537255</td>\n",
       "      <td>-0.470588</td>\n",
       "    </tr>\n",
       "    <tr>\n",
       "      <th>4</th>\n",
       "      <td>-0.6</td>\n",
       "      <td>0.484848</td>\n",
       "      <td>-2.000</td>\n",
       "      <td>0.875</td>\n",
       "      <td>0.441873</td>\n",
       "      <td>1.214286</td>\n",
       "      <td>5.007843</td>\n",
       "      <td>0.235294</td>\n",
       "    </tr>\n",
       "    <tr>\n",
       "      <th>...</th>\n",
       "      <td>...</td>\n",
       "      <td>...</td>\n",
       "      <td>...</td>\n",
       "      <td>...</td>\n",
       "      <td>...</td>\n",
       "      <td>...</td>\n",
       "      <td>...</td>\n",
       "      <td>...</td>\n",
       "    </tr>\n",
       "    <tr>\n",
       "      <th>763</th>\n",
       "      <td>1.4</td>\n",
       "      <td>-0.387879</td>\n",
       "      <td>0.250</td>\n",
       "      <td>2.500</td>\n",
       "      <td>0.582476</td>\n",
       "      <td>0.093407</td>\n",
       "      <td>-0.526797</td>\n",
       "      <td>2.000000</td>\n",
       "    </tr>\n",
       "    <tr>\n",
       "      <th>764</th>\n",
       "      <td>-0.2</td>\n",
       "      <td>0.121212</td>\n",
       "      <td>-0.125</td>\n",
       "      <td>-0.125</td>\n",
       "      <td>0.000000</td>\n",
       "      <td>0.521978</td>\n",
       "      <td>-0.084967</td>\n",
       "      <td>-0.117647</td>\n",
       "    </tr>\n",
       "    <tr>\n",
       "      <th>765</th>\n",
       "      <td>0.4</td>\n",
       "      <td>0.096970</td>\n",
       "      <td>0.000</td>\n",
       "      <td>-0.625</td>\n",
       "      <td>-0.214279</td>\n",
       "      <td>-0.642857</td>\n",
       "      <td>-0.333333</td>\n",
       "      <td>0.058824</td>\n",
       "    </tr>\n",
       "    <tr>\n",
       "      <th>766</th>\n",
       "      <td>-0.4</td>\n",
       "      <td>0.218182</td>\n",
       "      <td>-0.750</td>\n",
       "      <td>0.625</td>\n",
       "      <td>0.897033</td>\n",
       "      <td>-0.214286</td>\n",
       "      <td>-0.061438</td>\n",
       "      <td>1.058824</td>\n",
       "    </tr>\n",
       "    <tr>\n",
       "      <th>767</th>\n",
       "      <td>-0.4</td>\n",
       "      <td>-0.581818</td>\n",
       "      <td>-0.125</td>\n",
       "      <td>0.375</td>\n",
       "      <td>0.000000</td>\n",
       "      <td>-0.181319</td>\n",
       "      <td>-0.150327</td>\n",
       "      <td>-0.352941</td>\n",
       "    </tr>\n",
       "  </tbody>\n",
       "</table>\n",
       "<p>768 rows × 8 columns</p>\n",
       "</div>"
      ],
      "text/plain": [
       "     Pregnancies   Glucose  BloodPressure  SkinThickness   Insulin       BMI  \\\n",
       "0            0.6  0.751515          0.000          0.875  0.897033  0.170330   \n",
       "1           -0.4 -0.775758         -0.375          0.125  0.000000 -0.598901   \n",
       "2            1.0  1.600000         -0.500          0.625  0.897033 -0.961538   \n",
       "3           -0.4 -0.678788         -0.375         -0.625 -0.425185 -0.434066   \n",
       "4           -0.6  0.484848         -2.000          0.875  0.441873  1.214286   \n",
       "..           ...       ...            ...            ...       ...       ...   \n",
       "763          1.4 -0.387879          0.250          2.500  0.582476  0.093407   \n",
       "764         -0.2  0.121212         -0.125         -0.125  0.000000  0.521978   \n",
       "765          0.4  0.096970          0.000         -0.625 -0.214279 -0.642857   \n",
       "766         -0.4  0.218182         -0.750          0.625  0.897033 -0.214286   \n",
       "767         -0.4 -0.581818         -0.125          0.375  0.000000 -0.181319   \n",
       "\n",
       "     DiabetesPedigreeFunction       Age  \n",
       "0                    0.665359  1.235294  \n",
       "1                   -0.056209  0.117647  \n",
       "2                    0.783007  0.176471  \n",
       "3                   -0.537255 -0.470588  \n",
       "4                    5.007843  0.235294  \n",
       "..                        ...       ...  \n",
       "763                 -0.526797  2.000000  \n",
       "764                 -0.084967 -0.117647  \n",
       "765                 -0.333333  0.058824  \n",
       "766                 -0.061438  1.058824  \n",
       "767                 -0.150327 -0.352941  \n",
       "\n",
       "[768 rows x 8 columns]"
      ]
     },
     "execution_count": 67,
     "metadata": {},
     "output_type": "execute_result"
    }
   ],
   "source": [
    "df_r"
   ]
  },
  {
   "cell_type": "code",
   "execution_count": 68,
   "id": "1f93728b",
   "metadata": {},
   "outputs": [],
   "source": [
    "df = pd.concat([df_r,df[[\"Outcome\",\"BMIRanges_Healthy\",\"BMIRanges_Overweight\",\n",
    "                         \"BMIRanges_Obese\",\"INSULIN_DESC_Normal\",\"NewGlucose_Normal\",\n",
    "                         \"NewGlucose_Secret\",\"NewGlucose_High\"]]],axis=1)"
   ]
  },
  {
   "cell_type": "code",
   "execution_count": 69,
   "id": "ef44177e",
   "metadata": {},
   "outputs": [
    {
     "data": {
      "text/html": [
       "<div>\n",
       "<style scoped>\n",
       "    .dataframe tbody tr th:only-of-type {\n",
       "        vertical-align: middle;\n",
       "    }\n",
       "\n",
       "    .dataframe tbody tr th {\n",
       "        vertical-align: top;\n",
       "    }\n",
       "\n",
       "    .dataframe thead th {\n",
       "        text-align: right;\n",
       "    }\n",
       "</style>\n",
       "<table border=\"1\" class=\"dataframe\">\n",
       "  <thead>\n",
       "    <tr style=\"text-align: right;\">\n",
       "      <th></th>\n",
       "      <th>Pregnancies</th>\n",
       "      <th>Glucose</th>\n",
       "      <th>BloodPressure</th>\n",
       "      <th>SkinThickness</th>\n",
       "      <th>Insulin</th>\n",
       "      <th>BMI</th>\n",
       "      <th>DiabetesPedigreeFunction</th>\n",
       "      <th>Age</th>\n",
       "      <th>Outcome</th>\n",
       "      <th>BMIRanges_Healthy</th>\n",
       "      <th>BMIRanges_Overweight</th>\n",
       "      <th>BMIRanges_Obese</th>\n",
       "      <th>INSULIN_DESC_Normal</th>\n",
       "      <th>NewGlucose_Normal</th>\n",
       "      <th>NewGlucose_Secret</th>\n",
       "      <th>NewGlucose_High</th>\n",
       "    </tr>\n",
       "  </thead>\n",
       "  <tbody>\n",
       "    <tr>\n",
       "      <th>0</th>\n",
       "      <td>0.6</td>\n",
       "      <td>0.751515</td>\n",
       "      <td>0.000</td>\n",
       "      <td>0.875</td>\n",
       "      <td>0.897033</td>\n",
       "      <td>0.170330</td>\n",
       "      <td>0.665359</td>\n",
       "      <td>1.235294</td>\n",
       "      <td>1</td>\n",
       "      <td>0</td>\n",
       "      <td>0</td>\n",
       "      <td>1</td>\n",
       "      <td>0</td>\n",
       "      <td>0</td>\n",
       "      <td>0</td>\n",
       "      <td>1</td>\n",
       "    </tr>\n",
       "    <tr>\n",
       "      <th>1</th>\n",
       "      <td>-0.4</td>\n",
       "      <td>-0.775758</td>\n",
       "      <td>-0.375</td>\n",
       "      <td>0.125</td>\n",
       "      <td>0.000000</td>\n",
       "      <td>-0.598901</td>\n",
       "      <td>-0.056209</td>\n",
       "      <td>0.117647</td>\n",
       "      <td>0</td>\n",
       "      <td>0</td>\n",
       "      <td>1</td>\n",
       "      <td>0</td>\n",
       "      <td>1</td>\n",
       "      <td>1</td>\n",
       "      <td>0</td>\n",
       "      <td>0</td>\n",
       "    </tr>\n",
       "    <tr>\n",
       "      <th>2</th>\n",
       "      <td>1.0</td>\n",
       "      <td>1.600000</td>\n",
       "      <td>-0.500</td>\n",
       "      <td>0.625</td>\n",
       "      <td>0.897033</td>\n",
       "      <td>-0.961538</td>\n",
       "      <td>0.783007</td>\n",
       "      <td>0.176471</td>\n",
       "      <td>1</td>\n",
       "      <td>1</td>\n",
       "      <td>0</td>\n",
       "      <td>0</td>\n",
       "      <td>0</td>\n",
       "      <td>0</td>\n",
       "      <td>0</td>\n",
       "      <td>1</td>\n",
       "    </tr>\n",
       "    <tr>\n",
       "      <th>3</th>\n",
       "      <td>-0.4</td>\n",
       "      <td>-0.678788</td>\n",
       "      <td>-0.375</td>\n",
       "      <td>-0.625</td>\n",
       "      <td>-0.425185</td>\n",
       "      <td>-0.434066</td>\n",
       "      <td>-0.537255</td>\n",
       "      <td>-0.470588</td>\n",
       "      <td>0</td>\n",
       "      <td>0</td>\n",
       "      <td>1</td>\n",
       "      <td>0</td>\n",
       "      <td>1</td>\n",
       "      <td>1</td>\n",
       "      <td>0</td>\n",
       "      <td>0</td>\n",
       "    </tr>\n",
       "    <tr>\n",
       "      <th>4</th>\n",
       "      <td>-0.6</td>\n",
       "      <td>0.484848</td>\n",
       "      <td>-2.000</td>\n",
       "      <td>0.875</td>\n",
       "      <td>0.441873</td>\n",
       "      <td>1.214286</td>\n",
       "      <td>5.007843</td>\n",
       "      <td>0.235294</td>\n",
       "      <td>1</td>\n",
       "      <td>0</td>\n",
       "      <td>0</td>\n",
       "      <td>1</td>\n",
       "      <td>0</td>\n",
       "      <td>0</td>\n",
       "      <td>0</td>\n",
       "      <td>1</td>\n",
       "    </tr>\n",
       "    <tr>\n",
       "      <th>...</th>\n",
       "      <td>...</td>\n",
       "      <td>...</td>\n",
       "      <td>...</td>\n",
       "      <td>...</td>\n",
       "      <td>...</td>\n",
       "      <td>...</td>\n",
       "      <td>...</td>\n",
       "      <td>...</td>\n",
       "      <td>...</td>\n",
       "      <td>...</td>\n",
       "      <td>...</td>\n",
       "      <td>...</td>\n",
       "      <td>...</td>\n",
       "      <td>...</td>\n",
       "      <td>...</td>\n",
       "      <td>...</td>\n",
       "    </tr>\n",
       "    <tr>\n",
       "      <th>763</th>\n",
       "      <td>1.4</td>\n",
       "      <td>-0.387879</td>\n",
       "      <td>0.250</td>\n",
       "      <td>2.500</td>\n",
       "      <td>0.582476</td>\n",
       "      <td>0.093407</td>\n",
       "      <td>-0.526797</td>\n",
       "      <td>2.000000</td>\n",
       "      <td>0</td>\n",
       "      <td>0</td>\n",
       "      <td>0</td>\n",
       "      <td>1</td>\n",
       "      <td>0</td>\n",
       "      <td>0</td>\n",
       "      <td>1</td>\n",
       "      <td>0</td>\n",
       "    </tr>\n",
       "    <tr>\n",
       "      <th>764</th>\n",
       "      <td>-0.2</td>\n",
       "      <td>0.121212</td>\n",
       "      <td>-0.125</td>\n",
       "      <td>-0.125</td>\n",
       "      <td>0.000000</td>\n",
       "      <td>0.521978</td>\n",
       "      <td>-0.084967</td>\n",
       "      <td>-0.117647</td>\n",
       "      <td>0</td>\n",
       "      <td>0</td>\n",
       "      <td>0</td>\n",
       "      <td>1</td>\n",
       "      <td>1</td>\n",
       "      <td>0</td>\n",
       "      <td>1</td>\n",
       "      <td>0</td>\n",
       "    </tr>\n",
       "    <tr>\n",
       "      <th>765</th>\n",
       "      <td>0.4</td>\n",
       "      <td>0.096970</td>\n",
       "      <td>0.000</td>\n",
       "      <td>-0.625</td>\n",
       "      <td>-0.214279</td>\n",
       "      <td>-0.642857</td>\n",
       "      <td>-0.333333</td>\n",
       "      <td>0.058824</td>\n",
       "      <td>0</td>\n",
       "      <td>0</td>\n",
       "      <td>1</td>\n",
       "      <td>0</td>\n",
       "      <td>1</td>\n",
       "      <td>0</td>\n",
       "      <td>1</td>\n",
       "      <td>0</td>\n",
       "    </tr>\n",
       "    <tr>\n",
       "      <th>766</th>\n",
       "      <td>-0.4</td>\n",
       "      <td>0.218182</td>\n",
       "      <td>-0.750</td>\n",
       "      <td>0.625</td>\n",
       "      <td>0.897033</td>\n",
       "      <td>-0.214286</td>\n",
       "      <td>-0.061438</td>\n",
       "      <td>1.058824</td>\n",
       "      <td>1</td>\n",
       "      <td>0</td>\n",
       "      <td>0</td>\n",
       "      <td>1</td>\n",
       "      <td>0</td>\n",
       "      <td>0</td>\n",
       "      <td>1</td>\n",
       "      <td>0</td>\n",
       "    </tr>\n",
       "    <tr>\n",
       "      <th>767</th>\n",
       "      <td>-0.4</td>\n",
       "      <td>-0.581818</td>\n",
       "      <td>-0.125</td>\n",
       "      <td>0.375</td>\n",
       "      <td>0.000000</td>\n",
       "      <td>-0.181319</td>\n",
       "      <td>-0.150327</td>\n",
       "      <td>-0.352941</td>\n",
       "      <td>0</td>\n",
       "      <td>0</td>\n",
       "      <td>0</td>\n",
       "      <td>1</td>\n",
       "      <td>1</td>\n",
       "      <td>1</td>\n",
       "      <td>0</td>\n",
       "      <td>0</td>\n",
       "    </tr>\n",
       "  </tbody>\n",
       "</table>\n",
       "<p>768 rows × 16 columns</p>\n",
       "</div>"
      ],
      "text/plain": [
       "     Pregnancies   Glucose  BloodPressure  SkinThickness   Insulin       BMI  \\\n",
       "0            0.6  0.751515          0.000          0.875  0.897033  0.170330   \n",
       "1           -0.4 -0.775758         -0.375          0.125  0.000000 -0.598901   \n",
       "2            1.0  1.600000         -0.500          0.625  0.897033 -0.961538   \n",
       "3           -0.4 -0.678788         -0.375         -0.625 -0.425185 -0.434066   \n",
       "4           -0.6  0.484848         -2.000          0.875  0.441873  1.214286   \n",
       "..           ...       ...            ...            ...       ...       ...   \n",
       "763          1.4 -0.387879          0.250          2.500  0.582476  0.093407   \n",
       "764         -0.2  0.121212         -0.125         -0.125  0.000000  0.521978   \n",
       "765          0.4  0.096970          0.000         -0.625 -0.214279 -0.642857   \n",
       "766         -0.4  0.218182         -0.750          0.625  0.897033 -0.214286   \n",
       "767         -0.4 -0.581818         -0.125          0.375  0.000000 -0.181319   \n",
       "\n",
       "     DiabetesPedigreeFunction       Age  Outcome  BMIRanges_Healthy  \\\n",
       "0                    0.665359  1.235294        1                  0   \n",
       "1                   -0.056209  0.117647        0                  0   \n",
       "2                    0.783007  0.176471        1                  1   \n",
       "3                   -0.537255 -0.470588        0                  0   \n",
       "4                    5.007843  0.235294        1                  0   \n",
       "..                        ...       ...      ...                ...   \n",
       "763                 -0.526797  2.000000        0                  0   \n",
       "764                 -0.084967 -0.117647        0                  0   \n",
       "765                 -0.333333  0.058824        0                  0   \n",
       "766                 -0.061438  1.058824        1                  0   \n",
       "767                 -0.150327 -0.352941        0                  0   \n",
       "\n",
       "     BMIRanges_Overweight  BMIRanges_Obese  INSULIN_DESC_Normal  \\\n",
       "0                       0                1                    0   \n",
       "1                       1                0                    1   \n",
       "2                       0                0                    0   \n",
       "3                       1                0                    1   \n",
       "4                       0                1                    0   \n",
       "..                    ...              ...                  ...   \n",
       "763                     0                1                    0   \n",
       "764                     0                1                    1   \n",
       "765                     1                0                    1   \n",
       "766                     0                1                    0   \n",
       "767                     0                1                    1   \n",
       "\n",
       "     NewGlucose_Normal  NewGlucose_Secret  NewGlucose_High  \n",
       "0                    0                  0                1  \n",
       "1                    1                  0                0  \n",
       "2                    0                  0                1  \n",
       "3                    1                  0                0  \n",
       "4                    0                  0                1  \n",
       "..                 ...                ...              ...  \n",
       "763                  0                  1                0  \n",
       "764                  0                  1                0  \n",
       "765                  0                  1                0  \n",
       "766                  0                  1                0  \n",
       "767                  1                  0                0  \n",
       "\n",
       "[768 rows x 16 columns]"
      ]
     },
     "execution_count": 69,
     "metadata": {},
     "output_type": "execute_result"
    }
   ],
   "source": [
    "df"
   ]
  },
  {
   "cell_type": "code",
   "execution_count": 70,
   "id": "2fe64252",
   "metadata": {},
   "outputs": [
    {
     "name": "stdout",
     "output_type": "stream",
     "text": [
      "<class 'pandas.core.frame.DataFrame'>\n",
      "RangeIndex: 768 entries, 0 to 767\n",
      "Data columns (total 16 columns):\n",
      " #   Column                    Non-Null Count  Dtype  \n",
      "---  ------                    --------------  -----  \n",
      " 0   Pregnancies               768 non-null    float64\n",
      " 1   Glucose                   768 non-null    float64\n",
      " 2   BloodPressure             768 non-null    float64\n",
      " 3   SkinThickness             768 non-null    float64\n",
      " 4   Insulin                   768 non-null    float64\n",
      " 5   BMI                       768 non-null    float64\n",
      " 6   DiabetesPedigreeFunction  768 non-null    float64\n",
      " 7   Age                       768 non-null    float64\n",
      " 8   Outcome                   768 non-null    int64  \n",
      " 9   BMIRanges_Healthy         768 non-null    uint8  \n",
      " 10  BMIRanges_Overweight      768 non-null    uint8  \n",
      " 11  BMIRanges_Obese           768 non-null    uint8  \n",
      " 12  INSULIN_DESC_Normal       768 non-null    uint8  \n",
      " 13  NewGlucose_Normal         768 non-null    uint8  \n",
      " 14  NewGlucose_Secret         768 non-null    uint8  \n",
      " 15  NewGlucose_High           768 non-null    uint8  \n",
      "dtypes: float64(8), int64(1), uint8(7)\n",
      "memory usage: 59.4 KB\n"
     ]
    }
   ],
   "source": [
    "df.info()"
   ]
  },
  {
   "cell_type": "markdown",
   "id": "bf090282",
   "metadata": {},
   "source": [
    "RobustScaler ile verimizi ölçeklendirdik. Yani artık verimizde daha küçük sayılarla uğraşacağız ve bu bize algoritmalarda performans sağlayacak."
   ]
  },
  {
   "cell_type": "markdown",
   "id": "bd9a115a",
   "metadata": {},
   "source": [
    "Sınıflandırma olan değerlerimize RobustScaler uygulamadık. Çünkü sınıflandırma olan değişkenlerimizde her sayı bir sınıfı temsil ettiği için bir ölçeklemeye ihtiyacımız yok. Bu dataFrame için sınıflandırma değişkenleri sadece 0 ve 1 değişkenlerini alan değişkenlerdir."
   ]
  },
  {
   "cell_type": "markdown",
   "id": "e1c03859",
   "metadata": {},
   "source": [
    "Şimdi tekrardan başta yaptığımız gibi tüm algoritmaları son haliyle uygulayacağız ve accuracy’deki değişimi gözlemleyeceğiz."
   ]
  },
  {
   "cell_type": "code",
   "execution_count": 71,
   "id": "2788e487",
   "metadata": {},
   "outputs": [
    {
     "name": "stdout",
     "output_type": "stream",
     "text": [
      "Holdout Method: LR 0.8636363636363636\n",
      "Cross Val Score LR 0.8462576896787424\n",
      "------------------------------------\n",
      "Holdout Method: CART 0.8766233766233766\n",
      "Cross Val Score CART 0.8502734107997266\n",
      "------------------------------------\n",
      "Holdout Method: NB 0.7857142857142857\n",
      "Cross Val Score NB 0.8032638414217361\n",
      "------------------------------------\n",
      "Holdout Method: ANN 0.8896103896103896\n",
      "Cross Val Score ANN 0.8397983595352017\n",
      "------------------------------------\n"
     ]
    }
   ],
   "source": [
    "X = df.drop(\"Outcome\",axis=1)\n",
    "y = df[\"Outcome\"]\n",
    "\n",
    "X_train, X_test, y_train, y_test = train_test_split(X,y,test_size=0.2,random_state=23)\n",
    "\n",
    "for name,model in models:\n",
    "    mod = model.fit(X_train,y_train) #trainleri modele fit etmek\n",
    "    y_pred = mod.predict(X_test) # tahmin\n",
    "    acc = accuracy_score(y_test, y_pred) #rmse hesabı\n",
    "    cvscore = cross_val_score(model, X,y, cv = 10).mean()\n",
    "    print(\"Holdout Method:\",end=\" \")\n",
    "    print(name,acc) #yazdırılacak kısım\n",
    "    print(\"Cross Val Score\",end=\" \")\n",
    "    print(name,cvscore)\n",
    "    print(\"------------------------------------\")"
   ]
  },
  {
   "cell_type": "code",
   "execution_count": 72,
   "id": "055bb4b9",
   "metadata": {},
   "outputs": [],
   "source": [
    "import pickle"
   ]
  },
  {
   "cell_type": "code",
   "execution_count": null,
   "id": "23489599",
   "metadata": {},
   "outputs": [],
   "source": [
    "#data = {\"model\": mod, \"le_country\": le_country, \"le_education\": le_education}"
   ]
  },
  {
   "cell_type": "code",
   "execution_count": null,
   "id": "3f404463",
   "metadata": {},
   "outputs": [],
   "source": [
    "#with open('saved_steps.pkl', 'wb') as file:\n",
    "    #pickle.dump(data, file)"
   ]
  },
  {
   "cell_type": "code",
   "execution_count": null,
   "id": "b0abb79d",
   "metadata": {},
   "outputs": [],
   "source": [
    "#with open('saved_steps.pkl', 'rb') as file:\n",
    "    #data = pickle.load(file)"
   ]
  }
 ],
 "metadata": {
  "kernelspec": {
   "display_name": "Python 3 (ipykernel)",
   "language": "python",
   "name": "python3"
  },
  "language_info": {
   "codemirror_mode": {
    "name": "ipython",
    "version": 3
   },
   "file_extension": ".py",
   "mimetype": "text/x-python",
   "name": "python",
   "nbconvert_exporter": "python",
   "pygments_lexer": "ipython3",
   "version": "3.8.2"
  }
 },
 "nbformat": 4,
 "nbformat_minor": 5
}
